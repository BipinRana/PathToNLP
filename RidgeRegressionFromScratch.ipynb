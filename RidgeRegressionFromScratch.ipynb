{
 "cells": [
  {
   "cell_type": "code",
   "execution_count": 26,
   "id": "310c192a-9c21-499c-bc67-bf3f24bdfbe1",
   "metadata": {},
   "outputs": [],
   "source": [
    "from sklearn.datasets import make_regression\n",
    "import matplotlib.pyplot as plt\n",
    "import numpy as np\n",
    "X,y = make_regression(n_samples=150, n_features=1, n_informative=1, n_targets=1,noise=20,random_state=13)"
   ]
  },
  {
   "cell_type": "code",
   "execution_count": 27,
   "id": "7e1e86d7-b6e4-43bb-8baa-fe8741478f1c",
   "metadata": {},
   "outputs": [
    {
     "data": {
      "text/plain": [
       "<matplotlib.collections.PathCollection at 0x272ba808410>"
      ]
     },
     "execution_count": 27,
     "metadata": {},
     "output_type": "execute_result"
    },
    {
     "data": {
      "image/png": "[encoded data removed]",
      "text/plain": [
       "<Figure size 640x480 with 1 Axes>"
      ]
     },
     "metadata": {},
     "output_type": "display_data"
    }
   ],
   "source": [
    "plt.scatter(X,y)"
   ]
  },
  {
   "cell_type": "code",
   "execution_count": 28,
   "id": "31d2b0fb-4848-42e4-9ca8-a85a58b307c9",
   "metadata": {},
   "outputs": [
    {
     "name": "stdout",
     "output_type": "stream",
     "text": [
      "[11.86241293]\n",
      "-1.0554239472730949\n"
     ]
    }
   ],
   "source": [
    "from sklearn.linear_model import Ridge\n",
    "rr = Ridge(alpha=10)\n",
    "rr.fit(X,y)\n",
    "print(rr.coef_)\n",
    "print(rr.intercept_)"
   ]
  },
  {
   "cell_type": "code",
   "execution_count": 29,
   "id": "cbccb058-f9f4-437c-9bcd-5c2ff2e204de",
   "metadata": {},
   "outputs": [
    {
     "name": "stdout",
     "output_type": "stream",
     "text": [
      "[7.08990322]\n",
      "-1.2976970143409967\n"
     ]
    }
   ],
   "source": [
    "rr1 = Ridge(alpha=100)\n",
    "rr1.fit(X,y)\n",
    "print(rr1.coef_)\n",
    "print(rr1.intercept_)"
   ]
  },
  {
   "cell_type": "code",
   "execution_count": 30,
   "id": "f2dc5416-60c8-460b-9549-d76ecfc5f615",
   "metadata": {},
   "outputs": [],
   "source": [
    "class MyRidge:\n",
    "    \n",
    "    def __init__(self,alpha=0.1):\n",
    "        self.alpha = alpha\n",
    "        self.m = None\n",
    "        self.b = None\n",
    "        \n",
    "    def fit(self,X_train,y_train):\n",
    "        \n",
    "        num = 0\n",
    "        den = 0\n",
    "        \n",
    "        for i in range(X_train.shape[0]):\n",
    "            num = num + (y_train[i] - y_train.mean())*(X_train[i] - X_train.mean())\n",
    "            den = den + (X_train[i] - X_train.mean())*(X_train[i] - X_train.mean())\n",
    "        \n",
    "        self.m = num/(den + self.alpha)\n",
    "        self.b = y_train.mean() - (self.m*X_train.mean())\n",
    "        print(self.m,self.b)\n",
    "    \n",
    "    def predict(self,X_test):\n",
    "        return X_test*self.m+self.b"
   ]
  },
  {
   "cell_type": "code",
   "execution_count": 31,
   "id": "35ed0ad2-cdf2-4f35-bf4b-e60593943afa",
   "metadata": {},
   "outputs": [],
   "source": [
    "MR = MyRidge(alpha=10)"
   ]
  },
  {
   "cell_type": "code",
   "execution_count": 32,
   "id": "cf3d7f3f-1c37-45fb-86e1-a4145740919b",
   "metadata": {},
   "outputs": [
    {
     "name": "stdout",
     "output_type": "stream",
     "text": [
      "[11.86241293] [-1.05542395]\n"
     ]
    }
   ],
   "source": [
    "MR.fit(X,y)"
   ]
  },
  {
   "cell_type": "code",
   "execution_count": 33,
   "id": "3f048876-b537-46de-972d-4e240b6516e7",
   "metadata": {},
   "outputs": [],
   "source": [
    "MR2 = MyRidge(alpha=100)"
   ]
  },
  {
   "cell_type": "code",
   "execution_count": 34,
   "id": "9899cf09-9a4e-410a-b81b-cd9cea027653",
   "metadata": {},
   "outputs": [
    {
     "name": "stdout",
     "output_type": "stream",
     "text": [
      "[7.08990322] [-1.29769701]\n"
     ]
    }
   ],
   "source": [
    "MR2.fit(X,y)"
   ]
  },
  {
   "cell_type": "code",
   "execution_count": null,
   "id": "5bb62c35-aba6-490a-8cae-f9e3e53a313a",
   "metadata": {},
   "outputs": [],
   "source": []
  }
 ],
 "metadata": {
  "kernelspec": {
   "display_name": "Python 3 (ipykernel)",
   "language": "python",
   "name": "python3"
  },
  "language_info": {
   "codemirror_mode": {
    "name": "ipython",
    "version": 3
   },
   "file_extension": ".py",
   "mimetype": "text/x-python",
   "name": "python",
   "nbconvert_exporter": "python",
   "pygments_lexer": "ipython3",
   "version": "3.13.0"
  }
 },
 "nbformat": 4,
 "nbformat_minor": 5
}
