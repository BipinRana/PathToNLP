{
 "cells": [
  {
   "cell_type": "code",
   "execution_count": 1,
   "id": "729ae14b-7edd-4a9c-a7b6-cbbfcdd9981a",
   "metadata": {},
   "outputs": [],
   "source": [
    "# KNN(K nearest neighbor) is a supervised machine learning technique. It classifies a data based on its peer. In other words, by using the closest k data rows, it uses the label\n",
    "# of the mode's(highest frequency). The closest data as I have said is calculated based on the Euclidean distance.\n",
    "# One of it's limitation is that Taking a large k causes underfitting as the model the decision becomes less influenced by specific nearby points and more by the overall \n",
    "# majority class in the neighborhood. With a small 𝑘(e.g., 𝑘=1, the model makes predictions based solely on the single nearest neighbor.\n",
    "#If this point is an outlier or noisy, the prediction will reflect that error."
   ]
  },
  {
   "cell_type": "code",
   "execution_count": 22,
   "id": "01226404-3af5-48fb-a87a-10311772a403",
   "metadata": {},
   "outputs": [],
   "source": [
    "import numpy as np\n",
    "from collections.abc import Iterable"
   ]
  },
  {
   "cell_type": "code",
   "execution_count": 151,
   "id": "08d2ec9b-e350-49a8-895c-9fd7393750e7",
   "metadata": {},
   "outputs": [],
   "source": [
    "def euclidean_distance(x1,x2):\n",
    "    return np.sqrt(np.sum((x1 - x2)**2))\n",
    "    \n",
    "def get_neighbours(X,Y,X_new,k):\n",
    "    distances = []\n",
    "    for i in range(len(X)):\n",
    "        dist= euclidean_distance(X[i],X_new)\n",
    "        distances.append((dist,Y[i]))\n",
    "\n",
    "    distances.sort(key =lambda x:x[0])\n",
    "    neighbors = [distances[i][1] for i in range(k)]\n",
    "    return neighbors\n",
    "\n",
    "def predict(X, y, X_new, k):\n",
    "    answer_list = np.zeros(X_new.shape[0], dtype=int)  # Pre-allocate array\n",
    "    for i in range(X_new.shape[0]):\n",
    "        neighbors = get_neighbours(X, y, X_new[i], k)\n",
    "        counts = np.bincount(neighbors)\n",
    "        answer_list[i] = np.argmax(counts)  # Assign directly to the pre-allocated array\n",
    "    return answer_list\n",
    "        \n",
    "    "
   ]
  },
  {
   "cell_type": "code",
   "execution_count": 140,
   "id": "c1387f0a-ab98-43bb-8fe9-8480c14c9af9",
   "metadata": {},
   "outputs": [
    {
     "name": "stdout",
     "output_type": "stream",
     "text": [
      "The predicted class is [1]\n"
     ]
    }
   ],
   "source": [
    "X_train = np.array([\n",
    "    [2,3],\n",
    "    [1,1],\n",
    "    [2.5,2],\n",
    "    [6,6],\n",
    "    [7,7],\n",
    "    [5.5,5.5]\n",
    "])\n",
    "\n",
    "y_train = np.array([0,0,0,1,1,1])\n",
    "\n",
    "x_new = np.array([[5,6]])\n",
    "\n",
    "print(f\"The predicted class is {predict(X_train,y_train,x_new,3)}\")"
   ]
  },
  {
   "cell_type": "code",
   "execution_count": 109,
   "id": "801d2f6a-b3af-4722-9846-40c39d550dfc",
   "metadata": {},
   "outputs": [
    {
     "data": {
      "image/png": "[encoded data removed]",
      "text/plain": [
       "<Figure size 640x480 with 1 Axes>"
      ]
     },
     "metadata": {},
     "output_type": "display_data"
    }
   ],
   "source": [
    "import matplotlib.pyplot as plt\n",
    "\n",
    "for label in np.unique(y_train):\n",
    "    plt.scatter(X_train[y_train==label][:,0],X_train[y_train == label][:,1],label=f\"Class {label}\")\n",
    "\n",
    "plt.scatter(x_new[0],x_new[1],color='red',label='New Point',marker='x',s=100)\n",
    "plt.xlabel('x1')\n",
    "plt.ylabel('x2')\n",
    "plt.legend()\n",
    "plt.show()"
   ]
  },
  {
   "cell_type": "code",
   "execution_count": 15,
   "id": "4a790e36-d7e5-412b-9939-abd9dafb4466",
   "metadata": {},
   "outputs": [],
   "source": [
    "from sklearn.datasets import load_iris\n",
    "data = load_iris()"
   ]
  },
  {
   "cell_type": "code",
   "execution_count": 146,
   "id": "d9b51dc9-fe91-4ba5-b423-e04ee63bd693",
   "metadata": {},
   "outputs": [],
   "source": [
    "from sklearn.model_selection import train_test_split\n",
    "X_train,X_test,y_train,y_test = train_test_split(data.data,data.target,train_size=0.8,random_state=42)"
   ]
  },
  {
   "cell_type": "code",
   "execution_count": 152,
   "id": "be7c687e-50e0-46ed-805c-1f93d7fdb6e3",
   "metadata": {},
   "outputs": [],
   "source": [
    "y_pred = predict(X_train,y_train,X_test,3)"
   ]
  },
  {
   "cell_type": "code",
   "execution_count": 153,
   "id": "8311b5cc-6885-4537-8b49-116e39ac2543",
   "metadata": {},
   "outputs": [
    {
     "data": {
      "text/plain": [
       "array([1, 0, 2, 1, 1, 0, 1, 2, 1, 1, 2, 0, 0, 0, 0, 1, 2, 1, 1, 2, 0, 2,\n",
       "       0, 2, 2, 2, 2, 2, 0, 0])"
      ]
     },
     "execution_count": 153,
     "metadata": {},
     "output_type": "execute_result"
    }
   ],
   "source": [
    "y_pred"
   ]
  },
  {
   "cell_type": "code",
   "execution_count": 154,
   "id": "73bd2357-5b1c-4644-8262-392ff17c9727",
   "metadata": {},
   "outputs": [
    {
     "name": "stdout",
     "output_type": "stream",
     "text": [
      "KNN model from scratch\n",
      "Accuracy: 1.0\n",
      "              precision    recall  f1-score   support\n",
      "\n",
      "           0       1.00      1.00      1.00        10\n",
      "           1       1.00      1.00      1.00         9\n",
      "           2       1.00      1.00      1.00        11\n",
      "\n",
      "    accuracy                           1.00        30\n",
      "   macro avg       1.00      1.00      1.00        30\n",
      "weighted avg       1.00      1.00      1.00        30\n",
      "\n"
     ]
    }
   ],
   "source": [
    "from sklearn.metrics import classification_report\n",
    "from sklearn.metrics import accuracy_score\n",
    "print('KNN model from scratch')\n",
    "print('Accuracy:',accuracy_score(y_pred,y_test))\n",
    "print(classification_report(y_pred,y_test))"
   ]
  },
  {
   "cell_type": "code",
   "execution_count": 114,
   "id": "53d9e053-a1de-4075-8d9b-614e97e0d930",
   "metadata": {},
   "outputs": [],
   "source": [
    "from sklearn.neighbors import KNeighborsClassifier\n",
    "model = KNeighborsClassifier(n_neighbors=3)\n",
    "model.fit(X_train, y_train)\n",
    "\n",
    "# Make predictions\n",
    "y_pred2 = model.predict(X_test)"
   ]
  },
  {
   "cell_type": "code",
   "execution_count": 120,
   "id": "d7d36e68-d051-4651-a9c7-f16c86baea26",
   "metadata": {},
   "outputs": [
    {
     "name": "stdout",
     "output_type": "stream",
     "text": [
      "KNN model of sklearn\n",
      "Accuracy: 1.0\n",
      "              precision    recall  f1-score   support\n",
      "\n",
      "           0       1.00      1.00      1.00        10\n",
      "           1       1.00      1.00      1.00         9\n",
      "           2       1.00      1.00      1.00        11\n",
      "\n",
      "    accuracy                           1.00        30\n",
      "   macro avg       1.00      1.00      1.00        30\n",
      "weighted avg       1.00      1.00      1.00        30\n",
      "\n"
     ]
    }
   ],
   "source": [
    "print('KNN model of sklearn')\n",
    "print('Accuracy:',accuracy_score(y_pred2,y_test))\n",
    "print(classification_report(y_pred2,y_test))"
   ]
  },
  {
   "cell_type": "code",
   "execution_count": null,
   "id": "bf23abd0-46c7-44c4-b191-baa126c46751",
   "metadata": {},
   "outputs": [],
   "source": []
  }
 ],
 "metadata": {
  "kernelspec": {
   "display_name": "Python 3 (ipykernel)",
   "language": "python",
   "name": "python3"
  },
  "language_info": {
   "codemirror_mode": {
    "name": "ipython",
    "version": 3
   },
   "file_extension": ".py",
   "mimetype": "text/x-python",
   "name": "python",
   "nbconvert_exporter": "python",
   "pygments_lexer": "ipython3",
   "version": "3.13.0"
  }
 },
 "nbformat": 4,
 "nbformat_minor": 5
}
